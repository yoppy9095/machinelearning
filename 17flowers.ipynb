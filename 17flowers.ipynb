{
 "cells": [
  {
   "cell_type": "code",
   "execution_count": 1,
   "id": "14d7df79",
   "metadata": {},
   "outputs": [],
   "source": [
    "import tensorflow as tf\n",
    "from tensorflow.keras.applications.vgg16 import VGG16\n",
    "from tensorflow.keras.datasets import cifar10\n",
    "from tensorflow.keras import optimizers\n",
    "from tensorflow.keras.utils import plot_model, to_categorical\n",
    "from tensorflow.keras.models import Sequential, Model\n",
    "from tensorflow.keras.layers import Dense, Activation, Dropout, Flatten, Input, Lambda, Conv2D, MaxPooling2D, BatchNormalization\n",
    "import numpy as np\n",
    "import matplotlib.pyplot as plt\n",
    "from matplotlib import cm\n",
    "%matplotlib inline\n",
    "from tensorflow.keras.preprocessing.image import ImageDataGenerator "
   ]
  },
  {
   "cell_type": "code",
   "execution_count": 4,
   "id": "d2cab79a",
   "metadata": {},
   "outputs": [],
   "source": [
    "datagen = ImageDataGenerator(\n",
    "            featurewise_center = False,\n",
    "            samplewise_center = False,\n",
    "            featurewise_std_normalization = False,\n",
    "            samplewise_std_normalization = False,\n",
    "            zca_whitening = False,\n",
    "            rotation_range = 30,\n",
    "            width_shift_range = 0.3,\n",
    "            height_shift_range = 0.3,\n",
    "            horizontal_flip = True,\n",
    "            vertical_flip = False,\n",
    "            validation_split = 0.1\n",
    "        )"
   ]
  },
  {
   "cell_type": "code",
   "execution_count": 5,
   "id": "525233c2",
   "metadata": {},
   "outputs": [
    {
     "name": "stdout",
     "output_type": "stream",
     "text": [
      "Found 1071 images belonging to 17 classes.\n"
     ]
    }
   ],
   "source": [
    "train_dir = 'D:/17flowers/train_images'\n",
    "train_generator = datagen.flow_from_directory(\n",
    "            train_dir,\n",
    "            target_size=(224,224),\n",
    "            batch_size=32,\n",
    "            class_mode='categorical',\n",
    "            shuffle=True,\n",
    "            subset = \"training\" \n",
    "        )"
   ]
  },
  {
   "cell_type": "code",
   "execution_count": 6,
   "id": "200a3ecf",
   "metadata": {},
   "outputs": [
    {
     "name": "stdout",
     "output_type": "stream",
     "text": [
      "Found 119 images belonging to 17 classes.\n"
     ]
    }
   ],
   "source": [
    "val_generator = datagen.flow_from_directory(\n",
    "            train_dir,\n",
    "            target_size=(224,224),\n",
    "            batch_size=32,\n",
    "            class_mode='categorical',\n",
    "            shuffle=True,\n",
    "            subset = \"validation\"\n",
    "        )"
   ]
  },
  {
   "cell_type": "code",
   "execution_count": 12,
   "id": "ec11db11",
   "metadata": {},
   "outputs": [],
   "source": [
    "vgg_model = VGG16(include_top=False, weights=None, input_shape=(224,224,3))\n",
    "model = Sequential([\n",
    "    vgg_model,\n",
    "    Flatten(),\n",
    "    Dense(1024, activation='relu'),\n",
    "    Dense(17, activation='softmax')\n",
    "])\n",
    "adam = optimizers.Adam(lr=1e-4)\n",
    "model.compile(optimizer=adam, loss='categorical_crossentropy', metrics=[\"accuracy\"])"
   ]
  },
  {
   "cell_type": "code",
   "execution_count": 13,
   "id": "6c197551",
   "metadata": {
    "scrolled": true
   },
   "outputs": [
    {
     "name": "stdout",
     "output_type": "stream",
     "text": [
      "Epoch 1/50\n",
      "33/33 [==============================] - 13s 390ms/step - loss: 2.8830 - accuracy: 0.0645 - val_loss: 2.6734 - val_accuracy: 0.1250\n",
      "Epoch 2/50\n",
      "33/33 [==============================] - 13s 380ms/step - loss: 2.5369 - accuracy: 0.1242 - val_loss: 2.3693 - val_accuracy: 0.1458\n",
      "Epoch 3/50\n",
      "33/33 [==============================] - 12s 376ms/step - loss: 2.4455 - accuracy: 0.1655 - val_loss: 2.2276 - val_accuracy: 0.2396\n",
      "Epoch 4/50\n",
      "33/33 [==============================] - 12s 377ms/step - loss: 2.3332 - accuracy: 0.1858 - val_loss: 2.1120 - val_accuracy: 0.2396\n",
      "Epoch 5/50\n",
      "33/33 [==============================] - 12s 378ms/step - loss: 2.1333 - accuracy: 0.2599 - val_loss: 2.0892 - val_accuracy: 0.2812\n",
      "Epoch 6/50\n",
      "33/33 [==============================] - 12s 377ms/step - loss: 2.0367 - accuracy: 0.2849 - val_loss: 1.7982 - val_accuracy: 0.3333\n",
      "Epoch 7/50\n",
      "33/33 [==============================] - 12s 379ms/step - loss: 1.9163 - accuracy: 0.3244 - val_loss: 1.8609 - val_accuracy: 0.3021\n",
      "Epoch 8/50\n",
      "33/33 [==============================] - 12s 377ms/step - loss: 1.8378 - accuracy: 0.3301 - val_loss: 1.6938 - val_accuracy: 0.4688\n",
      "Epoch 9/50\n",
      "33/33 [==============================] - 12s 378ms/step - loss: 1.6962 - accuracy: 0.3840 - val_loss: 1.6575 - val_accuracy: 0.3854\n",
      "Epoch 10/50\n",
      "33/33 [==============================] - 12s 377ms/step - loss: 1.6182 - accuracy: 0.4148 - val_loss: 1.7060 - val_accuracy: 0.3750\n",
      "Epoch 11/50\n",
      "33/33 [==============================] - 12s 378ms/step - loss: 1.5005 - accuracy: 0.4764 - val_loss: 1.4758 - val_accuracy: 0.5104\n",
      "Epoch 12/50\n",
      "33/33 [==============================] - 12s 377ms/step - loss: 1.4377 - accuracy: 0.4957 - val_loss: 1.3747 - val_accuracy: 0.5104\n",
      "Epoch 13/50\n",
      "33/33 [==============================] - 12s 377ms/step - loss: 1.4572 - accuracy: 0.5024 - val_loss: 1.5926 - val_accuracy: 0.4375\n",
      "Epoch 14/50\n",
      "33/33 [==============================] - 12s 378ms/step - loss: 1.3853 - accuracy: 0.5409 - val_loss: 1.3793 - val_accuracy: 0.5625\n",
      "Epoch 15/50\n",
      "33/33 [==============================] - 12s 377ms/step - loss: 1.2983 - accuracy: 0.5457 - val_loss: 1.2714 - val_accuracy: 0.5729\n",
      "Epoch 16/50\n",
      "33/33 [==============================] - 12s 378ms/step - loss: 1.1865 - accuracy: 0.6102 - val_loss: 1.1835 - val_accuracy: 0.5938\n",
      "Epoch 17/50\n",
      "33/33 [==============================] - 12s 377ms/step - loss: 1.1454 - accuracy: 0.6208 - val_loss: 1.3885 - val_accuracy: 0.5312\n",
      "Epoch 18/50\n",
      "33/33 [==============================] - 12s 376ms/step - loss: 1.1519 - accuracy: 0.6073 - val_loss: 1.2958 - val_accuracy: 0.5625\n",
      "Epoch 19/50\n",
      "33/33 [==============================] - 13s 382ms/step - loss: 1.0581 - accuracy: 0.6554 - val_loss: 1.2138 - val_accuracy: 0.5729\n",
      "Epoch 20/50\n",
      "33/33 [==============================] - 12s 377ms/step - loss: 0.9933 - accuracy: 0.6583 - val_loss: 1.3627 - val_accuracy: 0.5833\n",
      "Epoch 21/50\n",
      "33/33 [==============================] - 12s 378ms/step - loss: 0.9899 - accuracy: 0.6622 - val_loss: 1.1706 - val_accuracy: 0.6354\n",
      "Epoch 22/50\n",
      "33/33 [==============================] - 12s 378ms/step - loss: 0.9805 - accuracy: 0.6574 - val_loss: 1.2666 - val_accuracy: 0.5104\n",
      "Epoch 23/50\n",
      "33/33 [==============================] - 12s 377ms/step - loss: 0.8691 - accuracy: 0.7055 - val_loss: 1.2448 - val_accuracy: 0.6250\n",
      "Epoch 24/50\n",
      "33/33 [==============================] - 12s 377ms/step - loss: 0.8931 - accuracy: 0.6978 - val_loss: 1.1948 - val_accuracy: 0.5833\n",
      "Epoch 25/50\n",
      "33/33 [==============================] - 13s 379ms/step - loss: 0.8737 - accuracy: 0.7170 - val_loss: 0.8250 - val_accuracy: 0.7188\n",
      "Epoch 26/50\n",
      "33/33 [==============================] - 12s 377ms/step - loss: 0.7998 - accuracy: 0.7257 - val_loss: 1.0517 - val_accuracy: 0.6562\n",
      "Epoch 27/50\n",
      "33/33 [==============================] - 12s 377ms/step - loss: 0.7329 - accuracy: 0.7469 - val_loss: 0.9308 - val_accuracy: 0.6562\n",
      "Epoch 28/50\n",
      "33/33 [==============================] - 12s 377ms/step - loss: 0.6883 - accuracy: 0.7546 - val_loss: 1.0415 - val_accuracy: 0.6458\n",
      "Epoch 29/50\n",
      "33/33 [==============================] - 12s 377ms/step - loss: 0.6521 - accuracy: 0.7883 - val_loss: 0.9999 - val_accuracy: 0.6250\n",
      "Epoch 30/50\n",
      "33/33 [==============================] - 12s 378ms/step - loss: 0.7005 - accuracy: 0.7661 - val_loss: 1.0358 - val_accuracy: 0.6458\n",
      "Epoch 31/50\n",
      "33/33 [==============================] - 13s 381ms/step - loss: 0.7371 - accuracy: 0.7526 - val_loss: 0.9867 - val_accuracy: 0.6979\n",
      "Epoch 32/50\n",
      "33/33 [==============================] - 12s 377ms/step - loss: 0.7214 - accuracy: 0.7430 - val_loss: 1.1259 - val_accuracy: 0.6979\n",
      "Epoch 33/50\n",
      "33/33 [==============================] - 12s 378ms/step - loss: 0.7482 - accuracy: 0.7449 - val_loss: 1.1161 - val_accuracy: 0.5938\n",
      "Epoch 34/50\n",
      "33/33 [==============================] - 12s 378ms/step - loss: 0.6587 - accuracy: 0.7757 - val_loss: 1.2076 - val_accuracy: 0.6771\n",
      "Epoch 35/50\n",
      "33/33 [==============================] - 12s 378ms/step - loss: 0.6466 - accuracy: 0.7796 - val_loss: 0.9326 - val_accuracy: 0.6771\n",
      "Epoch 36/50\n",
      "33/33 [==============================] - 12s 375ms/step - loss: 0.5945 - accuracy: 0.7960 - val_loss: 0.9456 - val_accuracy: 0.6979\n",
      "Epoch 37/50\n",
      "33/33 [==============================] - 13s 381ms/step - loss: 0.5375 - accuracy: 0.8181 - val_loss: 0.9712 - val_accuracy: 0.7292\n",
      "Epoch 38/50\n",
      "33/33 [==============================] - 12s 377ms/step - loss: 0.5044 - accuracy: 0.8325 - val_loss: 1.0600 - val_accuracy: 0.7292\n",
      "Epoch 39/50\n",
      "33/33 [==============================] - 12s 378ms/step - loss: 0.4950 - accuracy: 0.8402 - val_loss: 0.9283 - val_accuracy: 0.6875\n",
      "Epoch 40/50\n",
      "33/33 [==============================] - 12s 377ms/step - loss: 0.4971 - accuracy: 0.8383 - val_loss: 0.7816 - val_accuracy: 0.7188\n",
      "Epoch 41/50\n",
      "33/33 [==============================] - 12s 377ms/step - loss: 0.5347 - accuracy: 0.8104 - val_loss: 0.9313 - val_accuracy: 0.7083\n",
      "Epoch 42/50\n",
      "33/33 [==============================] - 12s 376ms/step - loss: 0.4425 - accuracy: 0.8547 - val_loss: 1.3856 - val_accuracy: 0.6875\n",
      "Epoch 43/50\n",
      "33/33 [==============================] - 13s 383ms/step - loss: 0.4960 - accuracy: 0.8306 - val_loss: 1.0727 - val_accuracy: 0.7188\n",
      "Epoch 44/50\n",
      "33/33 [==============================] - 13s 385ms/step - loss: 0.4374 - accuracy: 0.8489 - val_loss: 0.8422 - val_accuracy: 0.7500\n",
      "Epoch 45/50\n",
      "33/33 [==============================] - 12s 377ms/step - loss: 0.4170 - accuracy: 0.8701 - val_loss: 0.7734 - val_accuracy: 0.7188\n",
      "Epoch 46/50\n",
      "33/33 [==============================] - 12s 376ms/step - loss: 0.4680 - accuracy: 0.8479 - val_loss: 0.8852 - val_accuracy: 0.7500\n",
      "Epoch 47/50\n",
      "33/33 [==============================] - 12s 376ms/step - loss: 0.3512 - accuracy: 0.8826 - val_loss: 1.1485 - val_accuracy: 0.7292\n",
      "Epoch 48/50\n",
      "33/33 [==============================] - 12s 377ms/step - loss: 0.3827 - accuracy: 0.8691 - val_loss: 1.0344 - val_accuracy: 0.6562\n",
      "Epoch 49/50\n",
      "33/33 [==============================] - 12s 377ms/step - loss: 0.4368 - accuracy: 0.8364 - val_loss: 0.8604 - val_accuracy: 0.7500\n",
      "Epoch 50/50\n",
      "33/33 [==============================] - 13s 379ms/step - loss: 0.4248 - accuracy: 0.8604 - val_loss: 0.8971 - val_accuracy: 0.7083\n"
     ]
    }
   ],
   "source": [
    "history = model.fit_generator(\n",
    "            train_generator,\n",
    "            steps_per_epoch=33,\n",
    "            epochs=50,\n",
    "            validation_data=val_generator,\n",
    "            validation_steps=3,\n",
    "            verbose=1,\n",
    "            workers=1\n",
    "        )"
   ]
  },
  {
   "cell_type": "code",
   "execution_count": 14,
   "id": "1d7b5585",
   "metadata": {},
   "outputs": [
    {
     "data": {
      "image/png": "[encoded data removed]",
      "text/plain": [
       "<Figure size 432x288 with 1 Axes>"
      ]
     },
     "metadata": {
      "needs_background": "light"
     },
     "output_type": "display_data"
    }
   ],
   "source": [
    "plt.plot(history.history['accuracy'])\n",
    "plt.plot(history.history['val_accuracy'])\n",
    "plt.title('Model accuracy')\n",
    "plt.ylabel('Accuracy')\n",
    "plt.xlabel('Epoch')\n",
    "plt.grid()\n",
    "plt.legend(['Train', 'Validation'], loc='upper left')\n",
    "plt.show()"
   ]
  },
  {
   "cell_type": "code",
   "execution_count": 18,
   "id": "4bb23259",
   "metadata": {},
   "outputs": [],
   "source": [
    "vgg_pretrain_model = VGG16(include_top=False, weights='imagenet', input_shape=(224,224,3))\n",
    "vgg_pretrain_model.trainable = False\n",
    "pretrain_model = Sequential([\n",
    "    vgg_pretrain_model,\n",
    "    Flatten(),\n",
    "    Dense(1024, activation='relu'),\n",
    "    Dense(17, activation='softmax')\n",
    "])\n",
    "adam = optimizers.Adam(lr=1e-4)\n",
    "pretrain_model.compile(optimizer=adam, loss='categorical_crossentropy', metrics=[\"accuracy\"])"
   ]
  },
  {
   "cell_type": "code",
   "execution_count": 19,
   "id": "e2392984",
   "metadata": {
    "collapsed": true
   },
   "outputs": [
    {
     "name": "stdout",
     "output_type": "stream",
     "text": [
      "Epoch 1/50\n",
      "33/33 [==============================] - 13s 383ms/step - loss: 11.4631 - accuracy: 0.3734 - val_loss: 6.7192 - val_accuracy: 0.5833\n",
      "Epoch 2/50\n",
      "33/33 [==============================] - 12s 375ms/step - loss: 3.4098 - accuracy: 0.6930 - val_loss: 3.1344 - val_accuracy: 0.7396\n",
      "Epoch 3/50\n",
      "33/33 [==============================] - 12s 373ms/step - loss: 2.4748 - accuracy: 0.7661 - val_loss: 3.0869 - val_accuracy: 0.7188\n",
      "Epoch 4/50\n",
      "33/33 [==============================] - 12s 369ms/step - loss: 1.9385 - accuracy: 0.7950 - val_loss: 2.8498 - val_accuracy: 0.7083\n",
      "Epoch 5/50\n",
      "33/33 [==============================] - 12s 369ms/step - loss: 1.6072 - accuracy: 0.8171 - val_loss: 2.7236 - val_accuracy: 0.7604\n",
      "Epoch 6/50\n",
      "33/33 [==============================] - 12s 372ms/step - loss: 1.5639 - accuracy: 0.8248 - val_loss: 1.7800 - val_accuracy: 0.8333\n",
      "Epoch 7/50\n",
      "33/33 [==============================] - 12s 369ms/step - loss: 1.2864 - accuracy: 0.8316 - val_loss: 2.3667 - val_accuracy: 0.7604\n",
      "Epoch 8/50\n",
      "33/33 [==============================] - 12s 368ms/step - loss: 1.1252 - accuracy: 0.8527 - val_loss: 2.0150 - val_accuracy: 0.8333\n",
      "Epoch 9/50\n",
      "33/33 [==============================] - 12s 373ms/step - loss: 0.9110 - accuracy: 0.8750 - val_loss: 2.5774 - val_accuracy: 0.8229\n",
      "Epoch 10/50\n",
      "33/33 [==============================] - 12s 370ms/step - loss: 0.8385 - accuracy: 0.8778 - val_loss: 1.4801 - val_accuracy: 0.8333\n",
      "Epoch 11/50\n",
      "33/33 [==============================] - 12s 370ms/step - loss: 0.7551 - accuracy: 0.8922 - val_loss: 1.4119 - val_accuracy: 0.8750\n",
      "Epoch 12/50\n",
      "33/33 [==============================] - 12s 369ms/step - loss: 0.7462 - accuracy: 0.8864 - val_loss: 0.9755 - val_accuracy: 0.9271\n",
      "Epoch 13/50\n",
      "33/33 [==============================] - 12s 370ms/step - loss: 0.6410 - accuracy: 0.8989 - val_loss: 0.7620 - val_accuracy: 0.8958\n",
      "Epoch 14/50\n",
      "33/33 [==============================] - 12s 369ms/step - loss: 0.6961 - accuracy: 0.8951 - val_loss: 2.2585 - val_accuracy: 0.8021\n",
      "Epoch 15/50\n",
      "33/33 [==============================] - 12s 370ms/step - loss: 0.6073 - accuracy: 0.9115 - val_loss: 0.4916 - val_accuracy: 0.9167\n",
      "Epoch 16/50\n",
      "33/33 [==============================] - 12s 369ms/step - loss: 0.4769 - accuracy: 0.9115 - val_loss: 1.1863 - val_accuracy: 0.8750\n",
      "Epoch 17/50\n",
      "33/33 [==============================] - 12s 369ms/step - loss: 0.5768 - accuracy: 0.9047 - val_loss: 1.0894 - val_accuracy: 0.8646\n",
      "Epoch 18/50\n",
      "33/33 [==============================] - 12s 374ms/step - loss: 0.4339 - accuracy: 0.9269 - val_loss: 1.5827 - val_accuracy: 0.8438\n",
      "Epoch 19/50\n",
      "33/33 [==============================] - 12s 369ms/step - loss: 0.5115 - accuracy: 0.9240 - val_loss: 1.5681 - val_accuracy: 0.8542\n",
      "Epoch 20/50\n",
      "33/33 [==============================] - 12s 370ms/step - loss: 0.5785 - accuracy: 0.9095 - val_loss: 1.8203 - val_accuracy: 0.8646\n",
      "Epoch 21/50\n",
      "33/33 [==============================] - 12s 368ms/step - loss: 0.4889 - accuracy: 0.9317 - val_loss: 1.0609 - val_accuracy: 0.8646\n",
      "Epoch 22/50\n",
      "33/33 [==============================] - 12s 369ms/step - loss: 0.4567 - accuracy: 0.9269 - val_loss: 0.7235 - val_accuracy: 0.9062\n",
      "Epoch 23/50\n",
      "33/33 [==============================] - 12s 369ms/step - loss: 0.3325 - accuracy: 0.9451 - val_loss: 1.0417 - val_accuracy: 0.8542\n",
      "Epoch 24/50\n",
      "33/33 [==============================] - 12s 368ms/step - loss: 0.4260 - accuracy: 0.9307 - val_loss: 1.3820 - val_accuracy: 0.8542\n",
      "Epoch 25/50\n",
      "33/33 [==============================] - 12s 371ms/step - loss: 0.3452 - accuracy: 0.9442 - val_loss: 1.1599 - val_accuracy: 0.8750\n",
      "Epoch 26/50\n",
      "33/33 [==============================] - 12s 369ms/step - loss: 0.3250 - accuracy: 0.9432 - val_loss: 1.8031 - val_accuracy: 0.8229\n",
      "Epoch 27/50\n",
      "33/33 [==============================] - 12s 371ms/step - loss: 0.3152 - accuracy: 0.9394 - val_loss: 1.4322 - val_accuracy: 0.8542\n",
      "Epoch 28/50\n",
      "33/33 [==============================] - 12s 368ms/step - loss: 0.2918 - accuracy: 0.9509 - val_loss: 0.7448 - val_accuracy: 0.8958\n",
      "Epoch 29/50\n",
      "33/33 [==============================] - 12s 369ms/step - loss: 0.4979 - accuracy: 0.9240 - val_loss: 0.8755 - val_accuracy: 0.8958\n",
      "Epoch 30/50\n",
      "33/33 [==============================] - 12s 370ms/step - loss: 0.3926 - accuracy: 0.9307 - val_loss: 2.1144 - val_accuracy: 0.8542\n",
      "Epoch 31/50\n",
      "33/33 [==============================] - 12s 368ms/step - loss: 0.3159 - accuracy: 0.9461 - val_loss: 1.4965 - val_accuracy: 0.8854\n",
      "Epoch 32/50\n",
      "33/33 [==============================] - 12s 369ms/step - loss: 0.3291 - accuracy: 0.9442 - val_loss: 1.8891 - val_accuracy: 0.8542\n",
      "Epoch 33/50\n",
      "33/33 [==============================] - 12s 369ms/step - loss: 0.3357 - accuracy: 0.9423 - val_loss: 1.6446 - val_accuracy: 0.8646\n",
      "Epoch 34/50\n",
      "33/33 [==============================] - 12s 373ms/step - loss: 0.3590 - accuracy: 0.9471 - val_loss: 1.1913 - val_accuracy: 0.8750\n",
      "Epoch 35/50\n",
      "33/33 [==============================] - 12s 376ms/step - loss: 0.3573 - accuracy: 0.9461 - val_loss: 1.1063 - val_accuracy: 0.9062\n",
      "Epoch 36/50\n",
      "33/33 [==============================] - 12s 371ms/step - loss: 0.2945 - accuracy: 0.9413 - val_loss: 1.0831 - val_accuracy: 0.8958\n",
      "Epoch 37/50\n",
      "33/33 [==============================] - 12s 369ms/step - loss: 0.4187 - accuracy: 0.9432 - val_loss: 0.7791 - val_accuracy: 0.8958\n",
      "Epoch 38/50\n",
      "33/33 [==============================] - 12s 368ms/step - loss: 0.3209 - accuracy: 0.9423 - val_loss: 2.0617 - val_accuracy: 0.9062\n",
      "Epoch 39/50\n",
      "33/33 [==============================] - 12s 370ms/step - loss: 0.3153 - accuracy: 0.9548 - val_loss: 1.0779 - val_accuracy: 0.8854\n",
      "Epoch 40/50\n",
      "33/33 [==============================] - 12s 369ms/step - loss: 0.3319 - accuracy: 0.9528 - val_loss: 1.9419 - val_accuracy: 0.8542\n",
      "Epoch 41/50\n",
      "33/33 [==============================] - 12s 371ms/step - loss: 0.3710 - accuracy: 0.9480 - val_loss: 0.8417 - val_accuracy: 0.9167\n",
      "Epoch 42/50\n",
      "33/33 [==============================] - 12s 371ms/step - loss: 0.2794 - accuracy: 0.9509 - val_loss: 1.8323 - val_accuracy: 0.8750\n",
      "Epoch 43/50\n",
      "33/33 [==============================] - 12s 369ms/step - loss: 0.2139 - accuracy: 0.9634 - val_loss: 1.1494 - val_accuracy: 0.9167\n",
      "Epoch 44/50\n",
      "33/33 [==============================] - 12s 373ms/step - loss: 0.3471 - accuracy: 0.9480 - val_loss: 1.5590 - val_accuracy: 0.8542\n",
      "Epoch 45/50\n",
      "33/33 [==============================] - 12s 369ms/step - loss: 0.3348 - accuracy: 0.9528 - val_loss: 2.0718 - val_accuracy: 0.8438\n",
      "Epoch 46/50\n",
      "33/33 [==============================] - 12s 369ms/step - loss: 0.3470 - accuracy: 0.9528 - val_loss: 1.2699 - val_accuracy: 0.8333\n",
      "Epoch 47/50\n",
      "33/33 [==============================] - 12s 370ms/step - loss: 0.2421 - accuracy: 0.9577 - val_loss: 1.5057 - val_accuracy: 0.8854\n",
      "Epoch 48/50\n",
      "33/33 [==============================] - 12s 370ms/step - loss: 0.2730 - accuracy: 0.9557 - val_loss: 1.9945 - val_accuracy: 0.8542\n",
      "Epoch 49/50\n",
      "33/33 [==============================] - 12s 376ms/step - loss: 0.2680 - accuracy: 0.9557 - val_loss: 2.9585 - val_accuracy: 0.9062\n",
      "Epoch 50/50\n",
      "33/33 [==============================] - 12s 378ms/step - loss: 0.2430 - accuracy: 0.9605 - val_loss: 1.0800 - val_accuracy: 0.8854\n"
     ]
    }
   ],
   "source": [
    "history2 = pretrain_model.fit_generator(\n",
    "            train_generator,\n",
    "            steps_per_epoch=33,\n",
    "            epochs=50,\n",
    "            validation_data=val_generator,\n",
    "            validation_steps=3,\n",
    "            verbose=1,\n",
    "            workers=1\n",
    "        )"
   ]
  },
  {
   "cell_type": "code",
   "execution_count": 20,
   "id": "0bf7e5d6",
   "metadata": {},
   "outputs": [
    {
     "data": {
      "image/png": "[encoded data removed]",
      "text/plain": [
       "<Figure size 432x288 with 1 Axes>"
      ]
     },
     "metadata": {
      "needs_background": "light"
     },
     "output_type": "display_data"
    }
   ],
   "source": [
    "plt.plot(history2.history['accuracy'])\n",
    "plt.plot(history2.history['val_accuracy'])\n",
    "plt.title('Model accuracy')\n",
    "plt.ylabel('Accuracy')\n",
    "plt.xlabel('Epoch')\n",
    "plt.grid()\n",
    "plt.legend(['Train', 'Validation'], loc='upper left')\n",
    "plt.show()"
   ]
  },
  {
   "cell_type": "code",
   "execution_count": null,
   "id": "f603ee75",
   "metadata": {},
   "outputs": [],
   "source": []
  }
 ],
 "metadata": {
  "kernelspec": {
   "display_name": "Environment (conda_tf-gpu)",
   "language": "python",
   "name": "conda_tf-gpu"
  },
  "language_info": {
   "codemirror_mode": {
    "name": "ipython",
    "version": 3
   },
   "file_extension": ".py",
   "mimetype": "text/x-python",
   "name": "python",
   "nbconvert_exporter": "python",
   "pygments_lexer": "ipython3",
   "version": "3.6.13"
  }
 },
 "nbformat": 4,
 "nbformat_minor": 5
}
