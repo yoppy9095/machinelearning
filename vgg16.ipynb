{
 "cells": [
  {
   "cell_type": "code",
   "execution_count": 61,
   "id": "4e593d29",
   "metadata": {},
   "outputs": [],
   "source": [
    "import tensorflow as tf\n",
    "from tensorflow.keras.applications.vgg16 import VGG16\n",
    "from tensorflow.keras.datasets import cifar10\n",
    "from tensorflow.keras import optimizers\n",
    "from tensorflow.keras.utils import plot_model, to_categorical\n",
    "from tensorflow.keras.models import Sequential, Model\n",
    "from tensorflow.keras.layers import Dense, Activation, Dropout, Flatten, Input, Lambda, Conv2D, MaxPooling2D, BatchNormalization\n",
    "import numpy as np\n",
    "import matplotlib.pyplot as plt\n",
    "from matplotlib import cm\n",
    "%matplotlib inline"
   ]
  },
  {
   "cell_type": "code",
   "execution_count": 62,
   "id": "f89e8a38",
   "metadata": {},
   "outputs": [],
   "source": [
    "(X_train, t_train),(X_test, t_test) = cifar10.load_data()\n",
    "# floatに型変換\n",
    "X_train = X_train.astype('float32')\n",
    "X_test = X_test.astype('float32')\n",
    "\n",
    "# 各画素値を 0-1 に正規化\n",
    "X_train /= 255.0\n",
    "X_test /= 255.0\n",
    "\n",
    "# クラス分けの数に one-hot-vector 表現に\n",
    "classes = 10\n",
    "t_train = to_categorical(t_train, classes)\n",
    "t_test = to_categorical(t_test, classes)\n"
   ]
  },
  {
   "cell_type": "code",
   "execution_count": 63,
   "id": "6d9fde6e",
   "metadata": {},
   "outputs": [],
   "source": [
    "vgg_model = VGG16(include_top=False, weights=None, input_shape=(32,32,3))\n",
    "model = Sequential([\n",
    "    vgg_model,\n",
    "    Flatten(),\n",
    "    Dense(10,activation='softmax')\n",
    "])\n",
    "adam = optimizers.Adam(lr=1e-4)\n",
    "model.compile(optimizer=adam, loss='categorical_crossentropy', metrics=[\"accuracy\"])"
   ]
  },
  {
   "cell_type": "code",
   "execution_count": 64,
   "id": "0e88f7b2",
   "metadata": {},
   "outputs": [
    {
     "name": "stdout",
     "output_type": "stream",
     "text": [
      "Model: \"sequential_10\"\n",
      "_________________________________________________________________\n",
      "Layer (type)                 Output Shape              Param #   \n",
      "=================================================================\n",
      "vgg16 (Functional)           (None, 1, 1, 512)         14714688  \n",
      "_________________________________________________________________\n",
      "flatten_8 (Flatten)          (None, 512)               0         \n",
      "_________________________________________________________________\n",
      "dense_10 (Dense)             (None, 10)                5130      \n",
      "=================================================================\n",
      "Total params: 14,719,818\n",
      "Trainable params: 14,719,818\n",
      "Non-trainable params: 0\n",
      "_________________________________________________________________\n"
     ]
    }
   ],
   "source": [
    "model.summary()"
   ]
  },
  {
   "cell_type": "code",
   "execution_count": 71,
   "id": "27f1392e",
   "metadata": {
    "scrolled": false
   },
   "outputs": [
    {
     "name": "stdout",
     "output_type": "stream",
     "text": [
      "Epoch 1/50\n",
      "  1/352 [..............................] - ETA: 8s - loss: 0.3835 - accuracy: 0.8906WARNING:tensorflow:Callbacks method `on_train_batch_end` is slow compared to the batch time (batch time: 0.0140s vs `on_train_batch_end` time: 0.0259s). Check your callbacks.\n",
      "352/352 [==============================] - 12s 35ms/step - loss: 0.3309 - accuracy: 0.8823 - val_loss: 0.8556 - val_accuracy: 0.7428 ETA:  - ETA: 1s - loss: 0.3 - ETA: 0s - loss: 0.3\n",
      "Epoch 2/50\n",
      "352/352 [==============================] - 12s 35ms/step - loss: 0.2689 - accuracy: 0.9042 - val_loss: 0.9246 - val_accuracy: 0.7498TA: 10s - loss: 0.2778 - accuracy: 0. - ETA: 10s - loss: 0.2 - ETA: 9s - loss: 0.2688 - accura - ETA: 9s - loss: 0.267 - ETA: 8s - loss: 0.2621 - accu - ETA: 8s - loss: 0.2616 - accuracy - ETA: 7s - l - ETA: 6s - loss: 0.2600 - accura - ETA: 6s - loss: 0.2584 -  - - ETA: 4s - loss: 0.2604 - accuracy: 0. - ETA: 4s - loss: 0.2594 - accu - ETA: 3s - loss: 0.2614 - accuracy:  - ETA: 3s - loss: 0.2614 - accuracy - ETA: 3s - loss: 0 - ETA: 2s - los - ETA: 1s - loss: 0.2668 - accuracy:  - ETA: 1s - l - ETA: 0s - loss: 0.2690 - ac - ETA: 0s - loss: 0.2688 - accuracy: 0.\n",
      "Epoch 3/50\n",
      "352/352 [==============================] - 12s 35ms/step - loss: 0.2193 - accuracy: 0.9220 - val_loss: 0.9392 - val_accuracy: 0.7468: 3s - ETA: 2s - loss: 0.2170 - accuracy: 0. - ETA: 2s - loss: 0.2178 - accuracy - ETA: 2s - loss: 0.2173 - accu - ETA: 2s - loss: 0.2166 - accuracy: 0. - ETA: 1s - loss: 0.2172 - accuracy: 0.92 - ETA: 1s - loss: 0.2174 - accura - ETA: 0s - loss: 0.2193 - accuracy: 0.92\n",
      "Epoch 4/50\n",
      "352/352 [==============================] - 12s 35ms/step - loss: 0.1758 - accuracy: 0.9396 - val_loss: 1.0462 - val_accuracy: 0.7462TA: 10s - loss: 0.1416 - accuracy: 0.95 - ETA: 10s - loss: 0.1481 - accuracy: 0.951 - ETA: 10s - loss: 0.1463  - ETA: 9s - loss: 0.1526 - accuracy:  - ETA: 8s - loss: 0.1571 - accuracy: 0. - E - ETA: 6s - los - ETA: 5s - loss: 0 - ETA: 5s - loss: 0.1676 - accuracy: 0. - ETA: 4s - loss: 0.1 - ETA:  - ETA: 1s - loss: 0.1747 -  - ETA: 0s - loss: 0.1756 - accura - ETA: 0s - loss: 0.1751 - \n",
      "Epoch 5/50\n",
      "352/352 [==============================] - 12s 35ms/step - loss: 0.1464 - accuracy: 0.9477 - val_loss: 1.0576 - val_accuracy: 0.7416- loss: 0.1155 - accura - ETA: 8s - loss: 0.1297 - accuracy: 0.95 - ETA: 7s - loss: 0.1293 - ac - ETA: 7s - loss: 0.1336 - accuracy:  - - ETA: 5s - loss: 0.1334 - accura - ETA: 5s - los - ETA: 1s - - ETA: 0s - loss: 0.1458 - accu - ETA: 0s - loss: 0.1463 - accuracy: \n",
      "Epoch 6/50\n",
      "352/352 [==============================] - 12s 35ms/step - loss: 0.1268 - accuracy: 0.9561 - val_loss: 1.0431 - val_accuracy: 0.7536s: - ETA: 6s - loss: 0.1135 - ac - ETA: \n",
      "Epoch 7/50\n",
      "352/352 [==============================] - 12s 35ms/step - loss: 0.1064 - accuracy: 0.9633 - val_loss: 1.1688 - val_accuracy: 0.74460s - loss: 0.0939 - accuracy: 0.9 - ETA: 10s - loss: 0.0909 - accu - ETA: 9s - loss: - ETA: 7s - l - ETA: 6s - loss: 0.0941 - accu - ETA: 6s - ETA: 3s - loss: 0.0965 - ac - ETA: 3s - loss: 0.0995 - accu - ETA: 2s - loss: 0.1022 - accuracy - ETA: 2s - loss: 0 - ETA: 1s - loss: 0.1066 - accura - ETA: 1s - loss: 0.1060 - accuracy:  - ETA: 1s - loss: 0.1057 - ac - ETA: 0s - loss: 0.1059 \n",
      "Epoch 8/50\n",
      "352/352 [==============================] - 12s 35ms/step - loss: 0.0969 - accuracy: 0.9671 - val_loss: 1.1919 - val_accuracy: 0.7414ETA: 9s - loss: 0.0752 - accuracy: 0. - ETA: 9s - loss: 0.0747  - ETA: 8s - - ETA: 7s - ETA: 3s - - ETA: 2s - loss: 0.0\n",
      "Epoch 9/50\n",
      "352/352 [==============================] - 12s 35ms/step - loss: 0.0868 - accuracy: 0.9698 - val_loss: 1.2099 - val_accuracy: 0.750610s - loss: 0.0725 - accuracy: 0. - ETA: 10s - loss: - ETA: 0s - loss: 0.0864 \n",
      "Epoch 10/50\n",
      "352/352 [==============================] - 12s 35ms/step - loss: 0.0746 - accuracy: 0.9749 - val_loss: 1.2150 - val_accuracy: 0.7444oss: 0.0592 - accurac - ETA: 10s - loss: 0.0601 - accuracy: 0.981 - ETA: 10s - loss: 0.0593 - acc - ETA: 9s - loss: 0.0572 - accu - ETA: 9s - loss: 0.0583 - accu - ETA: 8s - loss: 0 - ETA: 7s - loss: 0.0622 -  - ETA: 7s - ETA: 4s - loss: 0.0682 - ac - ETA: 4s - los - ETA: 0s - loss: 0.0740 - ac\n",
      "Epoch 11/50\n",
      "352/352 [==============================] - 12s 35ms/step - loss: 0.0750 - accuracy: 0.9735 - val_loss: 1.1110 - val_accuracy: 0.76240.0714 - accuracy: - ETA:  - ETA: 7s - loss: 0 - E - ETA: 5s - loss: 0.0674 - ac - ETA: 3s - los - ETA: 2s - loss: 0.0714  - ETA: 1s - loss: 0.0712 - ac - ETA: 1s -\n",
      "Epoch 12/50\n",
      "352/352 [==============================] - 12s 35ms/step - loss: 0.0786 - accuracy: 0.9721 - val_loss: 1.2449 - val_accuracy: 0.75121s - loss: 0.0799 - accuracy:  - ETA: 1s - loss: 0.0800  - ETA: 0s - loss: 0.0\n",
      "Epoch 13/50\n",
      "352/352 [==============================] - 12s 35ms/step - loss: 0.0558 - accuracy: 0.9804 - val_loss: 1.3131 - val_accuracy: 0.7574 - loss: 0.0466 - ETA: 9s - loss: 0.0495 - ac - ETA: 9s - loss: 0 - ETA: 8s - loss: 0.0537 - accuracy: 0.98 - ETA: 8s - l - ETA: 7s - loss: 0.053 - ETA: 6s - ETA: 5s - loss: 0.0526 - accuracy:  - ETA: 5s - loss: 0.0542 - accuracy: 0.98 - E - ETA: 3s - loss: 0.0561 - accuracy: 0.98 - ETA: 3s - loss: 0.0559 - accuracy - ETA: 3s - loss: 0.056 - ETA: 1s - loss: 0.0550 - accuracy:  - ETA: 1s - l - ETA: 0s - loss: 0.0558 - accuracy: 0.\n",
      "Epoch 14/50\n",
      "352/352 [==============================] - 12s 35ms/step - loss: 0.0573 - accuracy: 0.9806 - val_loss: 1.2565 - val_accuracy: 0.75020s - loss: 0.0642 - acc - ETA: 10s - loss: 0.0551 - accuracy: - ETA - ETA: 7s - loss: 0.0524 - accuracy - - ETA: 3s - loss: 0.0591 - ac - ETA: 1s - los - ETA: 1s - loss: 0.0573 - accuracy:  - ETA: 0s - loss: 0.0 - ETA: 0s - loss: 0.0574 - accuracy: 0.\n",
      "Epoch 15/50\n",
      "352/352 [==============================] - 12s 35ms/step - loss: 0.0582 - accuracy: 0.9802 - val_loss: 1.3227 - val_accuracy: 0.76000.0422 - accuracy - ETA: 9s - - ETA: 2s - l - ETA: 1s - loss: 0.0591 - accuracy: 0.98 - ETA: 1s - loss: 0.0590 - accuracy: 0. - ETA\n",
      "Epoch 16/50\n",
      "352/352 [==============================] - 12s 35ms/step - loss: 0.0556 - accuracy: 0.9808 - val_loss: 1.2762 - val_accuracy: 0.7590TA: 11s - loss: 0.0513 - accuracy: 0.9 - ETA: 11s - loss: 0.0438  - ETA: 9s - loss: 0. - ETA: 9s - loss: 0.0428 - accu - ETA: 1s - - ETA: 0s - loss: 0.0555 - accuracy:  - ETA: 0s - loss: 0.0555 - accuracy: 0.\n",
      "Epoch 17/50\n",
      "352/352 [==============================] - 12s 35ms/step - loss: 0.0533 - accuracy: 0.9812 - val_loss: 1.3171 - val_accuracy: 0.7598  - ETA: 9s - - ETA: 5s - loss: 0.053\n",
      "Epoch 18/50\n",
      "352/352 [==============================] - 12s 35ms/step - loss: 0.0568 - accuracy: 0.9804 - val_loss: 1.4251 - val_accuracy: 0.7274 loss: 0.0373 - accuracy:  - ETA: 10s - loss: 0.0369 - accuracy - ETA: 9s - loss: 0.0368 - accuracy - ETA: 5s - l - ETA: 4s - loss: 0.0485 - accura - ETA: 3s - loss: 0.0500 - accuracy:  - ETA: 3s - - ETA: 0s - l\n",
      "Epoch 19/50\n",
      "352/352 [==============================] - 12s 35ms/step - loss: 0.0509 - accuracy: 0.9833 - val_loss: 1.2649 - val_accuracy: 0.7572 loss: 0.0559 - accuracy:  - ETA: 9s - los - ETA: 8s - loss: 0.0545 - ac - ETA: 7s - loss: 0.0548 - ac - ETA: 7s - loss: 0.0565 - accura - ETA: 2s - loss: - ETA: 1s - loss: 0.0519 -  - ETA: 0s - l\n",
      "Epoch 20/50\n",
      "352/352 [==============================] - 12s 35ms/step - loss: 0.0410 - accuracy: 0.9862 - val_loss: 1.3840 - val_accuracy: 0.7534: 0.0446 - accuracy: 0.98 - ETA: 9s - loss: 0.0447 -  - ETA: 8s - loss: 0.0 - ETA: 8s - - - ETA: 5s - loss: 0.0405 - accura - ETA: 5s - loss: 0.0408  - ETA: 4s - loss: 0.0406 - ac - ETA: 4s - loss: - ETA: 3s - loss: 0.0407 - accuracy: 0.98 - ETA: 3s - loss: 0 - ETA - ETA: 1s - ETA: 0s - loss: 0.0410 - accuracy: 0.\n",
      "Epoch 21/50\n"
     ]
    },
    {
     "name": "stdout",
     "output_type": "stream",
     "text": [
      "352/352 [==============================] - 12s 35ms/step - loss: 0.0487 - accuracy: 0.9834 - val_loss: 1.2176 - val_accuracy: 0.7632: 10s - loss: 0.0459 - accuracy: 0.983 - ETA: 10s - - ETA: 9s - loss: 0.0419 - ac - ETA: 8s - loss: 0.0411 - accuracy - ETA: 7s - loss: 0.0 - ETA: 6s - loss: 0.0446 - accuracy - ETA: 6s - loss: 0.044 - ETA: 5s - loss: 0.0440 - accu - ETA: 4s - loss: 0 - ETA: 4s - loss: 0.0439 - accura - ETA: 3s - loss: 0.0454 - accuracy:  - ETA: 3s - ETA: 2s - loss: 0.0473 - accuracy: 0.98 - ETA: 2s - loss:\n",
      "Epoch 22/50\n",
      "352/352 [==============================] - 12s 35ms/step - loss: 0.0397 - accuracy: 0.9866 - val_loss: 1.2468 - val_accuracy: 0.7614 - loss: 0.0 - ETA: 4s - loss: 0.0341 - accuracy - ETA: 4s - loss: 0.0345 - accura - ETA: 3s - loss: 0.0345 - accura - ETA: 3s - loss: 0.0347 - accuracy:  - ETA: 3s - los - ETA: 2s - loss: 0.0364 - accura - ETA: 2s - loss: 0.0373 - ac - ETA:  - ETA: 0s - loss: 0.0390 - accu\n",
      "Epoch 23/50\n",
      "352/352 [==============================] - 12s 35ms/step - loss: 0.0466 - accuracy: 0.9844 - val_loss: 1.2744 - val_accuracy: 0.767064 - ac - ETA: 7s - loss: 0.0366  - ETA: 7s - loss: 0.0383 - accuracy - ETA: 6s - loss: 0.0397  - ETA: 6s - loss: 0.0425 - accuracy: 0.98 - ETA: 6s - loss: 0.0425 - ac - ETA: 5s - loss: 0.0428 - accuracy: 0. - ETA: 5s - loss: - ETA: 4s - loss: 0.0440 -  - ETA: 2s - loss: 0.0424 - accuracy - ETA: 0s - loss: 0.0482 - accura - ETA: 0s - loss: 0.047\n",
      "Epoch 24/50\n",
      "352/352 [==============================] - 12s 35ms/step - loss: 0.0422 - accuracy: 0.9860 - val_loss: 1.2253 - val_accuracy: 0.7678 0.0250 - accuracy: 0.99 - ETA: 9s - loss: 0.0252 - accuracy: 0. - ETA: 9s - los - ETA - ETA: 3s - loss: 0.0392 - accura - ETA\n",
      "Epoch 25/50\n",
      "352/352 [==============================] - 12s 35ms/step - loss: 0.0405 - accuracy: 0.9861 - val_loss: 1.1572 - val_accuracy: 0.7746racy:  - ETA: 7s - loss: 0.0342 - accuracy:  - ETA: 6s - loss: 0.0342 - ac - ETA: 5s - loss: 0.0 - ETA: 3s - loss: 0.040 - ETA: 2s - loss: 0.0410 -  - ETA: 2s - loss: 0.040 - ETA: 1s - los - ETA: 0s - loss: 0.0402 - accuracy - ETA: 0s - loss: 0.0406 - accuracy - ETA: 0s - loss: 0.0404 - accuracy: 0.\n",
      "Epoch 26/50\n",
      "352/352 [==============================] - 12s 35ms/step - loss: 0.0377 - accuracy: 0.9876 - val_loss: 1.2232 - val_accuracy: 0.7654- los - ETA: 2s - l - ETA: 1s - loss: 0.0365 -  - ETA: 0s - loss: 0.0372 \n",
      "Epoch 27/50\n",
      "352/352 [==============================] - 12s 35ms/step - loss: 0.0375 - accuracy: 0.9873 - val_loss: 1.3154 - val_accuracy: 0.7648 loss: 0.0344 - accuracy: 0.98 - ETA: 8s - loss: 0.0346  - ETA: 6s - loss: 0.033 - ETA: 5s - loss: 0.0336 - accuracy - - ETA: 3s - loss: 0.0344 - accuracy:  - ETA: 3s - - ETA: 2s - los\n",
      "Epoch 28/50\n",
      "352/352 [==============================] - 12s 35ms/step - loss: 0.0428 - accuracy: 0.9859 - val_loss: 1.1546 - val_accuracy: 0.7686 loss: 0.0400 - accuracy: 0.98 - ETA: 6s - loss: 0.040 - ETA: 5s - loss: 0.0419 - accuracy: 0.98 - ETA: 5s - loss: 0.0418  - ETA: 4s - loss: 0.0422 - accu - E - ETA: 1s - loss: 0.0432 - accuracy:  - ETA: 1s - loss: 0.0429 - accuracy:  - ETA: \n",
      "Epoch 29/50\n",
      "352/352 [==============================] - 12s 35ms/step - loss: 0.0373 - accuracy: 0.9876 - val_loss: 1.1991 - val_accuracy: 0.7700oss: 0.0284 -  - ETA: 9s - loss: 0.027 - ETA: 9s - los - ETA: 5s - loss: 0.0271 - accuracy - - ETA: 3s - loss: 0.0334 \n",
      "Epoch 30/50\n",
      "352/352 [==============================] - 12s 35ms/step - loss: 0.0319 - accuracy: 0.9893 - val_loss: 1.3533 - val_accuracy: 0.7704s - loss: 0.0243 - accuracy:  - ETA: 10s - loss:  - ETA: 9s - loss: 0.0241 - accuracy: 0. - ETA: 9s - loss: 0.0238 - accura - ETA: 8s - loss: 0.024 - ETA: 8s - loss: 0.0275  - ETA: 7s - loss: 0.0270 - accura - ETA: 7s - loss: 0.0 - ETA: 6s - loss: 0 - ETA: 2s - loss: 0.0292 - accuracy: 0. - ETA: 2s - loss: 0.0300 - accuracy: 0.98 - ETA: 2s - loss: 0.0303  - ETA: 1s - loss: 0.0315 - accura - ETA: 0s - loss: 0.0318 - accuracy: 0.\n",
      "Epoch 31/50\n",
      "352/352 [==============================] - 12s 35ms/step - loss: 0.0373 - accuracy: 0.9872 - val_loss: 1.2492 - val_accuracy: 0.7638ss: 0.0409 - accu - ETA: 9s - ETA: 8s - loss: 0 - ETA: 7s - loss: 0.0360 - accu - ETA: 7s - loss: 0.0350 - accuracy: 0. - ETA: 7s - loss: 0.0347 - accuracy: 0. - ETA: 6s - loss: 0.0346 - ac - ETA: 6s - loss: 0.034 - ETA: 5s - loss: 0.0 - ETA: 5s - loss: 0.0321 - ac - ETA: 4s - loss: 0.033 - ETA: 3s - loss: 0.0351 -  - ETA: 3s - loss: 0.0353 - ac - ETA: 2s - loss: 0.0349 - accuracy - ETA: 1s\n",
      "Epoch 32/50\n",
      "352/352 [==============================] - 12s 35ms/step - loss: 0.0389 - accuracy: 0.9870 - val_loss: 1.1616 - val_accuracy: 0.7662: 10s - loss: 0. - ETA: 9s - loss: 0.0402 -  - ETA: 8s - loss: 0.0415 - accuracy: 0. - ETA: 8s - l - ETA: 7s - loss: 0.0385 - accuracy - ETA: 7s - loss: 0.0385 - accuracy - ETA: 7s - loss: 0.0382 - accuracy:  - ETA: 6s - loss: 0.0380 - accu - ETA: 6s - loss: 0.0367 - accu - ETA: 4s - los - ETA: 3s - loss: 0.0378 - accuracy:  - ETA:  - ETA: 2s - loss: 0.0355 - accuracy:  - ETA: 2s - loss: 0.0356  - ETA: 1s - loss: 0.0363 - accuracy:  - E\n",
      "Epoch 33/50\n",
      "352/352 [==============================] - 12s 35ms/step - loss: 0.0351 - accuracy: 0.9882 - val_loss: 1.1046 - val_accuracy: 0.7682 loss: 0.0210 - accu - ETA: 6s - - ETA: 5s - los - ETA: 4s - loss: 0.0317 - accuracy:  - ETA: 4s - loss: 0.0322 - accuracy - ETA: 4s - loss: 0.0330 - accuracy: 0.98 - ETA: 4s - ETA: 3s - loss: 0.0333 -  - ETA: 2s -\n",
      "Epoch 34/50\n",
      "352/352 [==============================] - 12s 35ms/step - loss: 0.0324 - accuracy: 0.9893 - val_loss: 1.2146 - val_accuracy: 0.7758 loss: 0.0214 - accuracy:  - ETA: 9s - los - ETA: 8s - loss: 0.0257 - accuracy - ETA: 8s - loss: 0.0 - ETA: 5s - ETA: 4s - l - ETA: 3s - loss: 0.0321  - ETA: 3s - loss: 0.0329 - accuracy - E - ETA: 1s - loss: 0.0330 - accuracy:  - ETA: 1s - loss: 0.0328 - accu - ETA: 0s - l\n",
      "Epoch 35/50\n",
      "352/352 [==============================] - 12s 35ms/step - loss: 0.0266 - accuracy: 0.9916 - val_loss: 1.3396 - val_accuracy: 0.7680s: 0.0147 - accu - ETA: 9s - loss: 0.013 - ETA: 8s - loss: 0 - ETA: 7s - loss: 0.0128 - accuracy: 0.99 - ETA: 7s - loss: 0.0130 - accu - ETA\n",
      "Epoch 36/50\n",
      "352/352 [==============================] - 12s 35ms/step - loss: 0.0349 - accuracy: 0.9884 - val_loss: 1.3369 - val_accuracy: 0.7750: 9s - loss: 0.0381 - accuracy: 0.98 - ETA: 9s - loss: 0.0380 -  - ETA: 8s - loss: 0.0341 -  - ETA: 7s - loss: 0.0321 - ac - ETA: 7s - loss: 0.0312 - accura - ETA:  - ETA: 5s - loss: 0.0316 - accuracy: 0.98 - ETA: 5s - loss: 0.0313 - accura - ETA: 5s - ETA: 4s - loss: 0.0376 -  - ETA: 0s - loss: 0.036 - ETA: 0s - loss: 0.0350 - accuracy\n",
      "Epoch 37/50\n",
      "352/352 [==============================] - 12s 35ms/step - loss: 0.0265 - accuracy: 0.9910 - val_loss: 1.2310 - val_accuracy: 0.77660s - loss: 0.0183 - accur - ETA:  - ETA: 8s - loss: 0.0187 - accuracy: 0. - ETA: 8s - loss: 0.0 - ETA: 7s - los - ETA: 7s - loss: 0 - ETA: 6s - loss: 0.023 - ETA: 5s - loss: 0 - ETA: 1s - loss: 0.0260 - accuracy:  - ETA:  - ETA: 0s - loss: 0.0264 - accu\n",
      "Epoch 38/50\n",
      "352/352 [==============================] - 12s 35ms/step - loss: 0.0316 - accuracy: 0.9895 - val_loss: 1.1903 - val_accuracy: 0.7680- ETA: 8s - loss: 0.0252  - ETA: 8s - loss: 0.0 - ETA: 7s - loss: 0.0286 - accu - ETA: 7s - loss: 0.0 - ETA: 3s - loss: 0.0 - ETA: 2s - - ETA: 0s - loss: 0.0312 - accuracy: \n",
      "Epoch 39/50\n",
      "352/352 [==============================] - 12s 35ms/step - loss: 0.0291 - accuracy: 0.9903 - val_loss: 1.3871 - val_accuracy: 0.7564ETA: 8s - loss: 0.0276 -  - E - ETA: 7s - loss: 0.0288 -  - ETA: 6s - ETA: 5s - loss: 0.0273 - accu - ETA - ETA: 3s - loss: 0.0284 - accuracy: 0. - ETA: 3s - loss: 0.0283  - ETA:  - ETA: 1s - ETA: 0s - loss: 0.0277 \n",
      "Epoch 40/50\n",
      "352/352 [==============================] - 12s 35ms/step - loss: 0.0265 - accuracy: 0.9909 - val_loss: 1.2333 - val_accuracy: 0.7762 0.0248 -  - ETA: 8s - ETA: 6s - loss: 0.0229 - accuracy - ETA: 5s - los - ETA: 1s - loss: 0.0268 - \n",
      "Epoch 41/50\n"
     ]
    },
    {
     "name": "stdout",
     "output_type": "stream",
     "text": [
      "352/352 [==============================] - 12s 35ms/step - loss: 0.0283 - accuracy: 0.9907 - val_loss: 1.4124 - val_accuracy: 0.7748TA: 10s - loss: 0.0487 - - ETA: 9s - loss: 0.0493  - ETA: 9s - loss: 0.0438 - accu - ETA: 8s - loss: 0.0406 - ac - ETA: 8s - loss: 0.0 - ETA: 6s - loss: 0.0334 - accura - E - ETA: 2s - loss: 0.0286 - accura - ETA: 2s - loss: 0.0285 - accura - ETA: 2s - los - ETA: 1s - - ETA: 0s - loss: 0.0282 - accuracy\n",
      "Epoch 42/50\n",
      "352/352 [==============================] - 12s 35ms/step - loss: 0.0300 - accuracy: 0.9898 - val_loss: 1.2252 - val_accuracy: 0.7788s: 0.0278 - accuracy:  - ETA: 3s - loss: 0 - ETA:  - ETA: 1s - loss: - ETA: 0s - loss: 0.0303 - accura - ETA: 0s - loss: 0.0302 - accuracy: 0.\n",
      "Epoch 43/50\n",
      "352/352 [==============================] - 12s 35ms/step - loss: 0.0263 - accuracy: 0.9915 - val_loss: 1.2359 - val_accuracy: 0.7758s: 0.0267 - - ETA: 9s - loss: 0.0290  - ETA: 8s - loss: 0.0284 - accuracy - ETA: 8s - los - ETA: 7s - loss: 0.0 - ETA: 6s - loss: 0.024 - ETA: 6s - - ETA: 5s - loss: 0.0237  - ETA: 4s - loss: 0.0237 - accura - ETA: 4s - loss: 0.0243 - accu - ETA: 3s - loss: 0.0249 - accuracy:  - ETA: 3s - loss: 0.0250 \n",
      "Epoch 44/50\n",
      "352/352 [==============================] - 12s 35ms/step - loss: 0.0208 - accuracy: 0.9932 - val_loss: 1.3520 - val_accuracy: 0.7784.0 - ETA: 8s - loss: 0.0127 - accuracy - ETA: 8s - loss: 0.0134 - accu - ETA: 8s - loss: - ETA: 7s - loss: 0.0183 - accu - ETA: 6s - loss: 0.018 - ETA: 6s - loss: 0.0199 - accu - E\n",
      "Epoch 45/50\n",
      "352/352 [==============================] - 12s 35ms/step - loss: 0.0242 - accuracy: 0.9927 - val_loss: 1.2873 - val_accuracy: 0.7690A: 7s - loss: 0.0218 - accuracy: 0. - ETA:  - ETA: 4s - loss: 0.0201 - accu - ETA: 4s - loss: 0 - ETA: 3s - loss: 0.0200 - accura\n",
      "Epoch 46/50\n",
      "352/352 [==============================] - 12s 35ms/step - loss: 0.0284 - accuracy: 0.9908 - val_loss: 1.2956 - val_accuracy: 0.7706 ETA: 1s - loss: 0.0 - ETA: 0s - loss: 0.0281 - accuracy:  - ETA: 0s - loss: 0.0284 -  - ETA: 0s - loss: 0.0285 - accuracy: \n",
      "Epoch 47/50\n",
      "352/352 [==============================] - 12s 35ms/step - loss: 0.0229 - accuracy: 0.9923 - val_loss: 1.2087 - val_accuracy: 0.7820A: 10s -  - ETA: 9s - loss: 0.0 - ETA: 7s - l - ETA: 6s - loss: 0.0189 -  - ETA: 4s - loss: 0.0209 -  - - ETA: 2s - loss: 0.0223 - accuracy: 0. - ETA:  - ETA: 0s - loss: 0.022 - ETA: 0s - loss: 0.0229 - accuracy: \n",
      "Epoch 48/50\n",
      "352/352 [==============================] - 12s 35ms/step - loss: 0.0254 - accuracy: 0.9917 - val_loss: 1.2874 - val_accuracy: 0.7774: 11s - loss: 0.0078 - accuracy: 0.99 - ETA: 10s - loss: 0.0091 - ETA: 9s - loss: 0.0084 - accu - ETA - ETA - ETA - ETA: 4s - loss: 0.0216 - accu - ETA: 3s - loss: 0.0232 -  - ETA: 3s - l - ETA: 2s - loss: 0.0259 - accuracy - ETA: 1s - loss: 0.0260  - ETA: 1s - loss: 0.0 - ETA: 0s - loss: 0.0259 - accu - ETA: 0s - loss: 0.0256 - accuracy\n",
      "Epoch 49/50\n",
      "352/352 [==============================] - 12s 35ms/step - loss: 0.0249 - accuracy: 0.9919 - val_loss: 1.2861 - val_accuracy: 0.7744: 10s - loss:  - E - ETA: 5s - loss: 0.0251 - accuracy:  - ETA: 5s - loss: 0.0247 -  - ETA: 4s - - ETA: 2s - loss: 0.0 - ETA: 1s - l - ETA: 0s - loss: 0.0252 - accura\n",
      "Epoch 50/50\n",
      "352/352 [==============================] - 12s 35ms/step - loss: 0.0220 - accuracy: 0.9927 - val_loss: 1.3007 - val_accuracy: 0.776010s - loss: 0.0199 - accuracy: 0. - ETA: 10s - loss: 0.0182 - accuracy - ETA: 10s - loss: 0.0161 - - ETA: 9s - l - ETA: 7s - loss: 0.0193 - accu - ETA: 6s - - ETA: 5s - loss: 0.0205 - accuracy: 0.99 - ETA: 5s - loss: 0.0205 - accuracy: 0. - E - ETA: 4s - loss: 0.0208 - ac - ETA: 3s - loss: 0.0210 - accuracy - ETA: 3s - loss: 0.0215 - accuracy:  - ETA: 3s - loss: 0.0214 - accu - ETA: 1s - loss: 0.0217 - ac - ETA: 0s - loss: 0.0217 -  - ETA: 0s - loss: 0.0220 - accuracy: \n"
     ]
    }
   ],
   "source": [
    "history = model.fit(X_train, t_train, batch_size=128, epochs=50, verbose=1, validation_split=0.1)"
   ]
  },
  {
   "cell_type": "code",
   "execution_count": 72,
   "id": "bdcc015c",
   "metadata": {},
   "outputs": [
    {
     "data": {
      "image/png": "[encoded data removed]",
      "text/plain": [
       "<Figure size 432x288 with 1 Axes>"
      ]
     },
     "metadata": {
      "needs_background": "light"
     },
     "output_type": "display_data"
    }
   ],
   "source": [
    "plt.plot(history.history['accuracy'])\n",
    "plt.plot(history.history['val_accuracy'])\n",
    "plt.title('Model accuracy')\n",
    "plt.ylabel('Accuracy')\n",
    "plt.xlabel('Epoch')\n",
    "plt.grid()\n",
    "plt.legend(['Train', 'Validation'], loc='upper left')\n",
    "plt.show()"
   ]
  },
  {
   "cell_type": "code",
   "execution_count": 73,
   "id": "60e52077",
   "metadata": {},
   "outputs": [],
   "source": [
    "vgg_pretrain_model = VGG16(include_top=False, weights='imagenet', input_shape=(32,32,3))\n",
    "vgg_pretrain_model.trainable = False\n",
    "pretrain_model = Sequential([\n",
    "    vgg_pretrain_model,\n",
    "    Flatten(),\n",
    "    Dense(10,activation='softmax')\n",
    "])\n",
    "adam = optimizers.Adam(lr=1e-4)\n",
    "pretrain_model.compile(optimizer=adam, loss='categorical_crossentropy', metrics=[\"accuracy\"])"
   ]
  },
  {
   "cell_type": "code",
   "execution_count": 74,
   "id": "d99fc0db",
   "metadata": {},
   "outputs": [
    {
     "name": "stdout",
     "output_type": "stream",
     "text": [
      "Model: \"sequential_12\"\n",
      "_________________________________________________________________\n",
      "Layer (type)                 Output Shape              Param #   \n",
      "=================================================================\n",
      "vgg16 (Functional)           (None, 1, 1, 512)         14714688  \n",
      "_________________________________________________________________\n",
      "flatten_10 (Flatten)         (None, 512)               0         \n",
      "_________________________________________________________________\n",
      "dense_12 (Dense)             (None, 10)                5130      \n",
      "=================================================================\n",
      "Total params: 14,719,818\n",
      "Trainable params: 5,130\n",
      "Non-trainable params: 14,714,688\n",
      "_________________________________________________________________\n"
     ]
    }
   ],
   "source": [
    "pretrain_model.summary()"
   ]
  },
  {
   "cell_type": "code",
   "execution_count": 75,
   "id": "885694d7",
   "metadata": {},
   "outputs": [
    {
     "name": "stdout",
     "output_type": "stream",
     "text": [
      "Epoch 1/50\n",
      "352/352 [==============================] - 4s 12ms/step - loss: 2.1763 - accuracy: 0.2127 - val_loss: 2.0240 - val_accuracy: 0.3164\n",
      "Epoch 2/50\n",
      "352/352 [==============================] - 4s 11ms/step - loss: 1.9479 - accuracy: 0.3504 - val_loss: 1.8507 - val_accuracy: 0.4004\n",
      "Epoch 3/50\n",
      "352/352 [==============================] - 4s 11ms/step - loss: 1.8119 - accuracy: 0.4067 - val_loss: 1.7418 - val_accuracy: 0.4404\n",
      "Epoch 4/50\n",
      "352/352 [==============================] - 4s 11ms/step - loss: 1.7218 - accuracy: 0.4367 - val_loss: 1.6665 - val_accuracy: 0.4596\n",
      "Epoch 5/50\n",
      "352/352 [==============================] - 4s 11ms/step - loss: 1.6572 - accuracy: 0.4556 - val_loss: 1.6112 - val_accuracy: 0.4770\n",
      "Epoch 6/50\n",
      "352/352 [==============================] - 4s 11ms/step - loss: 1.6085 - accuracy: 0.4690 - val_loss: 1.5691 - val_accuracy: 0.4862\n",
      "Epoch 7/50\n",
      "352/352 [==============================] - 4s 11ms/step - loss: 1.5699 - accuracy: 0.4794 - val_loss: 1.5343 - val_accuracy: 0.4986\n",
      "Epoch 8/50\n",
      "352/352 [==============================] - 4s 11ms/step - loss: 1.5384 - accuracy: 0.4891 - val_loss: 1.5065 - val_accuracy: 0.5050\n",
      "Epoch 9/50\n",
      "352/352 [==============================] - 4s 11ms/step - loss: 1.5122 - accuracy: 0.4955 - val_loss: 1.4827 - val_accuracy: 0.5122ss: 1.5156 - accu - ETA: 0s - loss: 1.5124 - accuracy: \n",
      "Epoch 10/50\n",
      "352/352 [==============================] - 4s 11ms/step - loss: 1.4899 - accuracy: 0.5017 - val_loss: 1.4623 - val_accuracy: 0.51704908 \n",
      "Epoch 11/50\n",
      "352/352 [==============================] - 4s 11ms/step - loss: 1.4706 - accuracy: 0.5074 - val_loss: 1.4446 - val_accuracy: 0.5202\n",
      "Epoch 12/50\n",
      "352/352 [==============================] - 4s 11ms/step - loss: 1.4536 - accuracy: 0.5119 - val_loss: 1.4299 - val_accuracy: 0.5252\n",
      "Epoch 13/50\n",
      "352/352 [==============================] - 4s 11ms/step - loss: 1.4386 - accuracy: 0.5159 - val_loss: 1.4165 - val_accuracy: 0.5256\n",
      "Epoch 14/50\n",
      "352/352 [==============================] - 4s 11ms/step - loss: 1.4250 - accuracy: 0.5192 - val_loss: 1.4034 - val_accuracy: 0.5270\n",
      "Epoch 15/50\n",
      "352/352 [==============================] - 4s 11ms/step - loss: 1.4128 - accuracy: 0.5236 - val_loss: 1.3924 - val_accuracy: 0.5302\n",
      "Epoch 16/50\n",
      "352/352 [==============================] - 4s 11ms/step - loss: 1.4017 - accuracy: 0.5263 - val_loss: 1.3825 - val_accuracy: 0.5332\n",
      "Epoch 17/50\n",
      "352/352 [==============================] - 4s 11ms/step - loss: 1.3915 - accuracy: 0.5294 - val_loss: 1.3732 - val_accuracy: 0.5364\n",
      "Epoch 18/50\n",
      "352/352 [==============================] - 4s 11ms/step - loss: 1.3821 - accuracy: 0.5325 - val_loss: 1.3641 - val_accuracy: 0.5376\n",
      "Epoch 19/50\n",
      "352/352 [==============================] - 4s 11ms/step - loss: 1.3735 - accuracy: 0.5353 - val_loss: 1.3562 - val_accuracy: 0.5418\n",
      "Epoch 20/50\n",
      "352/352 [==============================] - 4s 11ms/step - loss: 1.3654 - accuracy: 0.5385 - val_loss: 1.3491 - val_accuracy: 0.5444\n",
      "Epoch 21/50\n",
      "352/352 [==============================] - 4s 11ms/step - loss: 1.3578 - accuracy: 0.5396 - val_loss: 1.3419 - val_accuracy: 0.5490\n",
      "Epoch 22/50\n",
      "352/352 [==============================] - 4s 11ms/step - loss: 1.3508 - accuracy: 0.5427 - val_loss: 1.3360 - val_accuracy: 0.5476\n",
      "Epoch 23/50\n",
      "352/352 [==============================] - 4s 11ms/step - loss: 1.3443 - accuracy: 0.5449 - val_loss: 1.3303 - val_accuracy: 0.5496 1s - loss:\n",
      "Epoch 24/50\n",
      "352/352 [==============================] - 4s 11ms/step - loss: 1.3379 - accuracy: 0.5462 - val_loss: 1.3246 - val_accuracy: 0.5528\n",
      "Epoch 25/50\n",
      "352/352 [==============================] - 4s 11ms/step - loss: 1.3321 - accuracy: 0.5486 - val_loss: 1.3194 - val_accuracy: 0.5542\n",
      "Epoch 26/50\n",
      "352/352 [==============================] - 4s 11ms/step - loss: 1.3265 - accuracy: 0.5491 - val_loss: 1.3141 - val_accuracy: 0.5540\n",
      "Epoch 27/50\n",
      "352/352 [==============================] - 4s 11ms/step - loss: 1.3213 - accuracy: 0.5518 - val_loss: 1.3095 - val_accuracy: 0.5552\n",
      "Epoch 28/50\n",
      "352/352 [==============================] - 4s 11ms/step - loss: 1.3163 - accuracy: 0.5536 - val_loss: 1.3049 - val_accuracy: 0.5562\n",
      "Epoch 29/50\n",
      "352/352 [==============================] - 4s 11ms/step - loss: 1.3115 - accuracy: 0.5545 - val_loss: 1.3013 - val_accuracy: 0.5568\n",
      "Epoch 30/50\n",
      "352/352 [==============================] - 4s 11ms/step - loss: 1.3070 - accuracy: 0.5563 - val_loss: 1.2968 - val_accuracy: 0.5588\n",
      "Epoch 31/50\n",
      "352/352 [==============================] - 4s 11ms/step - loss: 1.3026 - accuracy: 0.5576 - val_loss: 1.2931 - val_accuracy: 0.5590\n",
      "Epoch 32/50\n",
      "352/352 [==============================] - 4s 11ms/step - loss: 1.2984 - accuracy: 0.5597 - val_loss: 1.2889 - val_accuracy: 0.5594\n",
      "Epoch 33/50\n",
      "352/352 [==============================] - 4s 11ms/step - loss: 1.2945 - accuracy: 0.5610 - val_loss: 1.2857 - val_accuracy: 0.5600\n",
      "Epoch 34/50\n",
      "352/352 [==============================] - 4s 11ms/step - loss: 1.2904 - accuracy: 0.5611 - val_loss: 1.2821 - val_accuracy: 0.5598\n",
      "Epoch 35/50\n",
      "352/352 [==============================] - 4s 11ms/step - loss: 1.2870 - accuracy: 0.5626 - val_loss: 1.2792 - val_accuracy: 0.5614\n",
      "Epoch 36/50\n",
      "352/352 [==============================] - 4s 11ms/step - loss: 1.2835 - accuracy: 0.5638 - val_loss: 1.2753 - val_accuracy: 0.5634\n",
      "Epoch 37/50\n",
      "352/352 [==============================] - 4s 11ms/step - loss: 1.2800 - accuracy: 0.5651 - val_loss: 1.2721 - val_accuracy: 0.5640\n",
      "Epoch 38/50\n",
      "352/352 [==============================] - 4s 11ms/step - loss: 1.2767 - accuracy: 0.5658 - val_loss: 1.2699 - val_accuracy: 0.5640\n",
      "Epoch 39/50\n",
      "352/352 [==============================] - 4s 11ms/step - loss: 1.2736 - accuracy: 0.5676 - val_loss: 1.2679 - val_accuracy: 0.5636\n",
      "Epoch 40/50\n",
      "352/352 [==============================] - 4s 11ms/step - loss: 1.2706 - accuracy: 0.5683 - val_loss: 1.2637 - val_accuracy: 0.5656\n",
      "Epoch 41/50\n",
      "352/352 [==============================] - 4s 11ms/step - loss: 1.2676 - accuracy: 0.5694 - val_loss: 1.2614 - val_accuracy: 0.5668\n",
      "Epoch 42/50\n",
      "352/352 [==============================] - 4s 11ms/step - loss: 1.2648 - accuracy: 0.5703 - val_loss: 1.2591 - val_accuracy: 0.5644\n",
      "Epoch 43/50\n",
      "352/352 [==============================] - 4s 11ms/step - loss: 1.2619 - accuracy: 0.5717 - val_loss: 1.2567 - val_accuracy: 0.5680\n",
      "Epoch 44/50\n",
      "352/352 [==============================] - 4s 11ms/step - loss: 1.2594 - accuracy: 0.5719 - val_loss: 1.2550 - val_accuracy: 0.5670\n",
      "Epoch 45/50\n",
      "352/352 [==============================] - 4s 11ms/step - loss: 1.2568 - accuracy: 0.5725 - val_loss: 1.2526 - val_accuracy: 0.5702\n",
      "Epoch 46/50\n",
      "352/352 [==============================] - 4s 11ms/step - loss: 1.2542 - accuracy: 0.5742 - val_loss: 1.2502 - val_accuracy: 0.5694\n",
      "Epoch 47/50\n",
      "352/352 [==============================] - 4s 11ms/step - loss: 1.2518 - accuracy: 0.5748 - val_loss: 1.2481 - val_accuracy: 0.5708\n",
      "Epoch 48/50\n",
      "352/352 [==============================] - 4s 11ms/step - loss: 1.2495 - accuracy: 0.5747 - val_loss: 1.2456 - val_accuracy: 0.5736\n",
      "Epoch 49/50\n",
      "352/352 [==============================] - 4s 11ms/step - loss: 1.2472 - accuracy: 0.5759 - val_loss: 1.2441 - val_accuracy: 0.5720\n",
      "Epoch 50/50\n",
      "352/352 [==============================] - 4s 11ms/step - loss: 1.2449 - accuracy: 0.5765 - val_loss: 1.2419 - val_accuracy: 0.5726\n"
     ]
    }
   ],
   "source": [
    "history2 = pretrain_model.fit(X_train, t_train, batch_size=128, epochs=50, verbose=1, validation_split=0.1)"
   ]
  },
  {
   "cell_type": "code",
   "execution_count": 76,
   "id": "bfc50ab7",
   "metadata": {},
   "outputs": [
    {
     "data": {
      "image/png": "[encoded data removed]",
      "text/plain": [
       "<Figure size 432x288 with 1 Axes>"
      ]
     },
     "metadata": {
      "needs_background": "light"
     },
     "output_type": "display_data"
    }
   ],
   "source": [
    "plt.plot(history2.history['accuracy'])\n",
    "plt.plot(history2.history['val_accuracy'])\n",
    "plt.title('Model accuracy')\n",
    "plt.ylabel('Accuracy')\n",
    "plt.xlabel('Epoch')\n",
    "plt.grid()\n",
    "plt.legend(['Train', 'Validation'], loc='upper left')\n",
    "plt.show()"
   ]
  },
  {
   "cell_type": "code",
   "execution_count": null,
   "id": "2682495a",
   "metadata": {},
   "outputs": [],
   "source": []
  }
 ],
 "metadata": {
  "kernelspec": {
   "display_name": "Environment (conda_tf-gpu)",
   "language": "python",
   "name": "conda_tf-gpu"
  },
  "language_info": {
   "codemirror_mode": {
    "name": "ipython",
    "version": 3
   },
   "file_extension": ".py",
   "mimetype": "text/x-python",
   "name": "python",
   "nbconvert_exporter": "python",
   "pygments_lexer": "ipython3",
   "version": "3.6.13"
  }
 },
 "nbformat": 4,
 "nbformat_minor": 5
}
